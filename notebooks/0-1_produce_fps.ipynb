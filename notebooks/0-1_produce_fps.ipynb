{
 "cells": [
  {
   "cell_type": "code",
   "execution_count": null,
   "id": "3f677c4a-9aa9-46ce-8f6f-abf048bda9a3",
   "metadata": {},
   "outputs": [],
   "source": [
    "# https://github.com/hcji/PyFingerprint\n",
    "# pip install git+https://github.com/EBjerrum/molvecgen\t\n",
    "# conda install -c conda-forge/label/main openbabel\n",
    "# pip install git+https://github.com/hcji/PyFingerprint.git"
   ]
  },
  {
   "cell_type": "code",
   "execution_count": 1,
   "id": "56bbbf33-0133-4058-addb-f69ad579cd9b",
   "metadata": {},
   "outputs": [
    {
     "ename": "JVMNotFoundException",
     "evalue": "No JVM shared library file (libjvm.so) found. Try setting up the JAVA_HOME environment variable properly.",
     "output_type": "error",
     "traceback": [
      "\u001b[0;31m---------------------------------------------------------------------------\u001b[0m",
      "\u001b[0;31mJVMNotFoundException\u001b[0m                      Traceback (most recent call last)",
      "Input \u001b[0;32mIn [1]\u001b[0m, in \u001b[0;36m<cell line: 2>\u001b[0;34m()\u001b[0m\n\u001b[1;32m      1\u001b[0m \u001b[38;5;28;01mimport\u001b[39;00m \u001b[38;5;21;01mnumpy\u001b[39;00m \u001b[38;5;28;01mas\u001b[39;00m \u001b[38;5;21;01mnp\u001b[39;00m\n\u001b[0;32m----> 2\u001b[0m \u001b[38;5;28;01mfrom\u001b[39;00m \u001b[38;5;21;01mPyFingerprint\u001b[39;00m\u001b[38;5;21;01m.\u001b[39;00m\u001b[38;5;21;01mfingerprint\u001b[39;00m \u001b[38;5;28;01mimport\u001b[39;00m get_fingerprint, get_fingerprints\n",
      "File \u001b[0;32m/opt/conda/lib/python3.9/site-packages/PyFingerprint/fingerprint.py:10\u001b[0m, in \u001b[0;36m<module>\u001b[0;34m\u001b[0m\n\u001b[1;32m      2\u001b[0m \u001b[38;5;124;03m\"\"\"\u001b[39;00m\n\u001b[1;32m      3\u001b[0m \u001b[38;5;124;03mCreated on Wed Feb  2 08:01:30 2022\u001b[39;00m\n\u001b[1;32m      4\u001b[0m \n\u001b[1;32m      5\u001b[0m \u001b[38;5;124;03m@author: jihon\u001b[39;00m\n\u001b[1;32m      6\u001b[0m \u001b[38;5;124;03m\"\"\"\u001b[39;00m\n\u001b[1;32m      9\u001b[0m \u001b[38;5;28;01mimport\u001b[39;00m \u001b[38;5;21;01mnumpy\u001b[39;00m \u001b[38;5;28;01mas\u001b[39;00m \u001b[38;5;21;01mnp\u001b[39;00m\n\u001b[0;32m---> 10\u001b[0m \u001b[38;5;28;01mfrom\u001b[39;00m \u001b[38;5;21;01mPyFingerprint\u001b[39;00m\u001b[38;5;21;01m.\u001b[39;00m\u001b[38;5;21;01mcdk\u001b[39;00m \u001b[38;5;28;01mimport\u001b[39;00m cdk_fingerprint\n\u001b[1;32m     11\u001b[0m \u001b[38;5;28;01mfrom\u001b[39;00m \u001b[38;5;21;01mPyFingerprint\u001b[39;00m\u001b[38;5;21;01m.\u001b[39;00m\u001b[38;5;21;01mrdk\u001b[39;00m \u001b[38;5;28;01mimport\u001b[39;00m rdk_fingerprint \n\u001b[1;32m     12\u001b[0m \u001b[38;5;28;01mfrom\u001b[39;00m \u001b[38;5;21;01mPyFingerprint\u001b[39;00m\u001b[38;5;21;01m.\u001b[39;00m\u001b[38;5;21;01mbabel\u001b[39;00m \u001b[38;5;28;01mimport\u001b[39;00m ob_fingerprint\n",
      "File \u001b[0;32m/opt/conda/lib/python3.9/site-packages/PyFingerprint/cdk.py:15\u001b[0m, in \u001b[0;36m<module>\u001b[0;34m\u001b[0m\n\u001b[1;32m     13\u001b[0m \u001b[38;5;28;01mif\u001b[39;00m \u001b[38;5;129;01mnot\u001b[39;00m isJVMStarted():\n\u001b[1;32m     14\u001b[0m     cdk_path \u001b[38;5;241m=\u001b[39m os\u001b[38;5;241m.\u001b[39mpath\u001b[38;5;241m.\u001b[39mjoin(PyFingerprint\u001b[38;5;241m.\u001b[39m__path__[\u001b[38;5;241m0\u001b[39m], \u001b[38;5;124m'\u001b[39m\u001b[38;5;124mCDK\u001b[39m\u001b[38;5;124m'\u001b[39m, \u001b[38;5;124m'\u001b[39m\u001b[38;5;124mcdk-2.2.jar\u001b[39m\u001b[38;5;124m'\u001b[39m)\n\u001b[0;32m---> 15\u001b[0m     startJVM(\u001b[43mgetDefaultJVMPath\u001b[49m\u001b[43m(\u001b[49m\u001b[43m)\u001b[49m, \u001b[38;5;124m\"\u001b[39m\u001b[38;5;124m-ea\u001b[39m\u001b[38;5;124m\"\u001b[39m, \u001b[38;5;124m\"\u001b[39m\u001b[38;5;124m-Djava.class.path=\u001b[39m\u001b[38;5;132;01m%s\u001b[39;00m\u001b[38;5;124m\"\u001b[39m \u001b[38;5;241m%\u001b[39m cdk_path)\n\u001b[1;32m     16\u001b[0m     cdk \u001b[38;5;241m=\u001b[39m JPackage(\u001b[38;5;124m'\u001b[39m\u001b[38;5;124morg\u001b[39m\u001b[38;5;124m'\u001b[39m)\u001b[38;5;241m.\u001b[39mopenscience\u001b[38;5;241m.\u001b[39mcdk\n\u001b[1;32m     19\u001b[0m sp \u001b[38;5;241m=\u001b[39m cdk\u001b[38;5;241m.\u001b[39msmiles\u001b[38;5;241m.\u001b[39mSmilesParser(cdk\u001b[38;5;241m.\u001b[39mDefaultChemObjectBuilder\u001b[38;5;241m.\u001b[39mgetInstance())\n",
      "File \u001b[0;32m/opt/conda/lib/python3.9/site-packages/jpype/_jvmfinder.py:74\u001b[0m, in \u001b[0;36mgetDefaultJVMPath\u001b[0;34m()\u001b[0m\n\u001b[1;32m     72\u001b[0m \u001b[38;5;28;01melse\u001b[39;00m:\n\u001b[1;32m     73\u001b[0m     finder \u001b[38;5;241m=\u001b[39m LinuxJVMFinder()\n\u001b[0;32m---> 74\u001b[0m \u001b[38;5;28;01mreturn\u001b[39;00m \u001b[43mfinder\u001b[49m\u001b[38;5;241;43m.\u001b[39;49m\u001b[43mget_jvm_path\u001b[49m\u001b[43m(\u001b[49m\u001b[43m)\u001b[49m\n",
      "File \u001b[0;32m/opt/conda/lib/python3.9/site-packages/jpype/_jvmfinder.py:212\u001b[0m, in \u001b[0;36mJVMFinder.get_jvm_path\u001b[0;34m(self)\u001b[0m\n\u001b[1;32m    210\u001b[0m \u001b[38;5;28;01mif\u001b[39;00m jvm_notsupport_ext \u001b[38;5;129;01mis\u001b[39;00m \u001b[38;5;129;01mnot\u001b[39;00m \u001b[38;5;28;01mNone\u001b[39;00m:\n\u001b[1;32m    211\u001b[0m     \u001b[38;5;28;01mraise\u001b[39;00m jvm_notsupport_ext\n\u001b[0;32m--> 212\u001b[0m \u001b[38;5;28;01mraise\u001b[39;00m JVMNotFoundException(\u001b[38;5;124m\"\u001b[39m\u001b[38;5;124mNo JVM shared library file (\u001b[39m\u001b[38;5;132;01m{0}\u001b[39;00m\u001b[38;5;124m) \u001b[39m\u001b[38;5;124m\"\u001b[39m\n\u001b[1;32m    213\u001b[0m                            \u001b[38;5;124m\"\u001b[39m\u001b[38;5;124mfound. Try setting up the JAVA_HOME \u001b[39m\u001b[38;5;124m\"\u001b[39m\n\u001b[1;32m    214\u001b[0m                            \u001b[38;5;124m\"\u001b[39m\u001b[38;5;124menvironment variable properly.\u001b[39m\u001b[38;5;124m\"\u001b[39m\n\u001b[1;32m    215\u001b[0m                            \u001b[38;5;241m.\u001b[39mformat(\u001b[38;5;28mself\u001b[39m\u001b[38;5;241m.\u001b[39m_libfile))\n",
      "\u001b[0;31mJVMNotFoundException\u001b[0m: No JVM shared library file (libjvm.so) found. Try setting up the JAVA_HOME environment variable properly."
     ]
    }
   ],
   "source": [
    "import numpy as np\n",
    "from PyFingerprint.fingerprint import get_fingerprint, get_fingerprints"
   ]
  },
  {
   "cell_type": "code",
   "execution_count": null,
   "id": "4d663b59-5fdc-4bf8-9efa-4b435598b109",
   "metadata": {},
   "outputs": [],
   "source": [
    "import numpy as np\n",
    "from PyFingerprint.fingerprint import get_fingerprint, get_fingerprints\n",
    "\n",
    "cdktypes = ['standard', 'extended', 'graph', 'maccs', 'pubchem', 'estate', 'hybridization', 'lingo', \n",
    "            'klekota-roth', 'shortestpath', 'signature', 'substructure']\n",
    "rdktypes = ['rdkit', 'morgan', 'rdk-maccs', 'topological-torsion', 'avalon', 'atom-pair']\n",
    "babeltypes = ['fp2', 'fp3', 'fp4']\n",
    "vectypes = ['mol2vec', 'heteroencoder']\n",
    "\n",
    "smi = 'CCCCN'\n",
    "output = {}\n",
    "for f in cdktypes:\n",
    "    output[f] = get_fingerprint(smi, f)\n",
    "\n",
    "for f in rdktypes:\n",
    "    output[f] = get_fingerprint(smi, f)\n",
    "    \n",
    "for f in babeltypes:\n",
    "    output[f] = get_fingerprint(smi, f)\n",
    "    \n",
    "for f in vectypes:\n",
    "    output[f] = get_fingerprint(smi, f)\n",
    "\n",
    "output_np = output.copy()\n",
    "for k, fp in output.items():\n",
    "    output_np[k] = fp.to_numpy()"
   ]
  },
  {
   "cell_type": "code",
   "execution_count": null,
   "id": "01ec815f-eb46-4362-ae03-2067345d6992",
   "metadata": {},
   "outputs": [],
   "source": [
    "smlist = ['CCCCC', 'CCCCN', 'CCCCO']    \n",
    "output = {}\n",
    "for f in cdktypes:\n",
    "    output[f] = get_fingerprints(smlist, f)\n",
    "\n",
    "for f in rdktypes:\n",
    "    output[f] = get_fingerprints(smlist, f)\n",
    "    \n",
    "for f in babeltypes:\n",
    "    output[f] = get_fingerprints(smlist, f)\n",
    "    \n",
    "for f in vectypes:\n",
    "    output[f] = get_fingerprints(smlist, f)\n",
    "\n",
    "output_np = output.copy()\n",
    "for k, fps in output.items():\n",
    "    output_np[k] = np.array([fp.to_numpy() for fp in fps])"
   ]
  }
 ],
 "metadata": {
  "kernelspec": {
   "display_name": "Python 3 (ipykernel)",
   "language": "python",
   "name": "python3"
  },
  "language_info": {
   "codemirror_mode": {
    "name": "ipython",
    "version": 3
   },
   "file_extension": ".py",
   "mimetype": "text/x-python",
   "name": "python",
   "nbconvert_exporter": "python",
   "pygments_lexer": "ipython3",
   "version": "3.9.12"
  }
 },
 "nbformat": 4,
 "nbformat_minor": 5
}
