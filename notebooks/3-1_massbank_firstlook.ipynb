{
 "cells": [
  {
   "cell_type": "code",
   "execution_count": 2,
   "id": "222e55a2-35c7-44d2-aea8-eebe52644a14",
   "metadata": {},
   "outputs": [
    {
     "name": "stdout",
     "output_type": "stream",
     "text": [
      "#003c30\n",
      "#177b73\n",
      "#75c5ba\n",
      "#d4edea\n",
      "#f6ecd1\n",
      "#dab972\n",
      "#a26619\n",
      "#543005\n"
     ]
    }
   ],
   "source": [
    "#%reset\n",
    "import pandas as pd\n",
    "from matplotlib import pyplot as plt\n",
    "import matplotlib as mpl\n",
    "import seaborn as sns\n",
    "import numpy as np\n",
    "from pylab import *\n",
    "from matplotlib import cm\n",
    "from matplotlib.colors import ListedColormap, LinearSegmentedColormap\n",
    "cmap = cm.get_cmap('BrBG_r', 8)\n",
    "for i in range(cmap.N):\n",
    "    rgba = cmap(i)\n",
    "    # rgb2hex accepts rgb or rgba\n",
    "    print(matplotlib.colors.rgb2hex(rgba))\n",
    "    from IPython.core.interactiveshell import InteractiveShell\n",
    "InteractiveShell.ast_node_interactivity = \"all\""
   ]
  },
  {
   "cell_type": "code",
   "execution_count": 3,
   "id": "42511d15-6746-408c-9248-b02b2f67ee87",
   "metadata": {},
   "outputs": [],
   "source": [
    "df = pd.read_csv(\"../data/massbank-data/MolFps_truevspred_heatmap_data.csv\")\n",
    "df2 = pd.read_csv(\"../data/massbank-data/MolFps_truevspred_heatmap_data_20221201.csv\")\n",
    "\n",
    "dtxsid = pd.read_csv(\"../data/massbank-data/MolFps_truevspred_heatmap_data_DTXSID.csv\")\n",
    "df_true = pd.read_csv(\"../data/massbank-data/true_molfps_perf_mechanistic_targets.csv\")\n",
    "df_pred = pd.read_csv(\"../data/massbank-data/pred_molfps_perf_mechanistic_targets.csv\")\n",
    "df_truepred = pd.read_csv(\"../data/massbank-data/truepred_molfps_perf_mechanistic_targets.csv\")"
   ]
  },
  {
   "cell_type": "code",
   "execution_count": null,
   "id": "8f51db38-644c-45b8-9bec-76bc37c468c6",
   "metadata": {},
   "outputs": [
    {
     "data": {
      "text/plain": [
       "<Figure size 1296x720 with 0 Axes>"
      ]
     },
     "execution_count": 4,
     "metadata": {},
     "output_type": "execute_result"
    },
    {
     "data": {
      "text/plain": [
       "[Text(0.5, 66.5, 'Fingerprint bits'),\n",
       " Text(138.5, 0.5, 'MassBank chemicals (2.5 k)')]"
      ]
     },
     "execution_count": 4,
     "metadata": {},
     "output_type": "execute_result"
    }
   ],
   "source": [
    "plt.figure(figsize=(18,10))\n",
    "sns.set()\n",
    "rdgn = sns.diverging_palette(h_neg=130, h_pos=10, s=99, l=55, sep=3,as_cmap=True)\n",
    "cmap = sns.cm.rocket_r\n",
    "yticks = df2.dtxsid\n",
    "df3 = df2.drop(['dtxsid'], axis=1)\n",
    "keptticks = yticks[::int(len(yticks)/10)]\n",
    "yticks = ['' for y in yticks]\n",
    "yticks[::int(len(yticks)/10)] = keptticks\n",
    "xticks = df.columns\n",
    "keptticks = xticks[::int(len(xticks)/10)]\n",
    "xticks = ['' for y in xticks]\n",
    "xticks[::int(len(xticks)/10)] = keptticks\n",
    "ax = sns.heatmap(df3, cmap = \"gray\", cbar=False)\n",
    "# , yticklabels=False, xticklabels=False\n",
    "for _, spine in ax.spines.items():spine.set_visible(True)\n",
    "ax.set(xlabel='Fingerprint bits', ylabel='MassBank chemicals (2.5 k)')\n",
    "plt.savefig('../plots/massbank/MolFps_truevspred_heatmap2.svg', bbox_inches = 'tight', dpi = 300)\n",
    "plt.show()"
   ]
  },
  {
   "cell_type": "code",
   "execution_count": null,
   "id": "55805154-bfb4-455b-a2d1-91eb05c58c9a",
   "metadata": {},
   "outputs": [],
   "source": []
  }
 ],
 "metadata": {
  "kernelspec": {
   "display_name": "Python 3 (ipykernel)",
   "language": "python",
   "name": "python3"
  },
  "language_info": {
   "codemirror_mode": {
    "name": "ipython",
    "version": 3
   },
   "file_extension": ".py",
   "mimetype": "text/x-python",
   "name": "python",
   "nbconvert_exporter": "python",
   "pygments_lexer": "ipython3",
   "version": "3.9.12"
  }
 },
 "nbformat": 4,
 "nbformat_minor": 5
}
