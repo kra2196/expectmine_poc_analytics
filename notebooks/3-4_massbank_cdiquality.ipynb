{
 "cells": [
  {
   "cell_type": "code",
   "execution_count": 1,
   "id": "a1ff2d12-06cc-4d8a-967d-e50b9e310636",
   "metadata": {},
   "outputs": [],
   "source": [
    "#%reset\n",
    "# import packages\n",
    "import pandas as pd\n",
    "pd.set_option(\"display.precision\", 2)\n",
    "import matplotlib.pyplot as plt\n",
    "from matplotlib import cm\n",
    "from matplotlib.colors import ListedColormap, LinearSegmentedColormap\n",
    "import seaborn as sns\n",
    "import numpy as np\n",
    "from scipy.stats import norm\n",
    "from sklearn.preprocessing import StandardScaler\n",
    "from scipy import stats\n",
    "import warnings\n",
    "warnings.filterwarnings('ignore')\n",
    "%matplotlib inline\n",
    "import os\n",
    "sns.set()\n",
    "import re\n",
    "warnings.filterwarnings('ignore')\n",
    "from pylab import *\n",
    "sns.set()\n",
    "# pip3 install -U scikit-learn scipy matplotlib\n",
    "def jitter(values,j):\n",
    "    return values + np.random.normal(j,0.01,values.shape)\n",
    "from PIL import Image, ImageDraw\n",
    "\n",
    "import pandas as pd\n",
    "import matplotlib.cm as cm\n",
    "import numpy as np\n",
    "import matplotlib.pyplot as plt\n"
   ]
  },
  {
   "cell_type": "code",
   "execution_count": 4,
   "id": "a466fd31-6031-4d5b-a9bc-038677739b12",
   "metadata": {},
   "outputs": [],
   "source": [
    "df_csi = pd.read_csv('../data/massbank-data/csi_fingerid.tsv', sep='\\t')"
   ]
  },
  {
   "cell_type": "code",
   "execution_count": 6,
   "id": "69178831-95ca-4beb-8da3-77a4d96ac1b0",
   "metadata": {},
   "outputs": [
    {
     "data": {
      "text/plain": [
       "(3878, 13)"
      ]
     },
     "execution_count": 6,
     "metadata": {},
     "output_type": "execute_result"
    }
   ],
   "source": [
    "df_csi.head(3)\n",
    "df_csi.shape"
   ]
  },
  {
   "cell_type": "code",
   "execution_count": null,
   "id": "627ea572-707c-430a-8472-b02730021125",
   "metadata": {},
   "outputs": [],
   "source": []
  }
 ],
 "metadata": {
  "kernelspec": {
   "display_name": "Python 3 (ipykernel)",
   "language": "python",
   "name": "python3"
  },
  "language_info": {
   "codemirror_mode": {
    "name": "ipython",
    "version": 3
   },
   "file_extension": ".py",
   "mimetype": "text/x-python",
   "name": "python",
   "nbconvert_exporter": "python",
   "pygments_lexer": "ipython3",
   "version": "3.9.12"
  }
 },
 "nbformat": 4,
 "nbformat_minor": 5
}
