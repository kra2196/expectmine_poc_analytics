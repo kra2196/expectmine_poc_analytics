{
 "cells": [
  {
   "cell_type": "code",
   "execution_count": 71,
   "id": "76aa7bed-f0c3-483c-8602-e1187ce82faf",
   "metadata": {},
   "outputs": [
    {
     "name": "stdin",
     "output_type": "stream",
     "text": [
      "Once deleted, variables cannot be recovered. Proceed (y/[n])?  y\n"
     ]
    }
   ],
   "source": [
    "%reset "
   ]
  },
  {
   "cell_type": "code",
   "execution_count": 2,
   "id": "baed28da-ac8d-49ae-b350-5eb694edb379",
   "metadata": {},
   "outputs": [],
   "source": [
    "import seaborn as sns\n",
    "import pandas as pd\n",
    "import matplotlib.pyplot as plt\n",
    "import pylab as plt"
   ]
  },
  {
   "cell_type": "code",
   "execution_count": 5,
   "id": "7f6e52c1-8f3e-48d6-9939-1c0633b4096c",
   "metadata": {},
   "outputs": [
    {
     "data": {
      "text/html": [
       "<div>\n",
       "<style scoped>\n",
       "    .dataframe tbody tr th:only-of-type {\n",
       "        vertical-align: middle;\n",
       "    }\n",
       "\n",
       "    .dataframe tbody tr th {\n",
       "        vertical-align: top;\n",
       "    }\n",
       "\n",
       "    .dataframe thead th {\n",
       "        text-align: right;\n",
       "    }\n",
       "</style>\n",
       "<table border=\"1\" class=\"dataframe\">\n",
       "  <thead>\n",
       "    <tr style=\"text-align: right;\">\n",
       "      <th></th>\n",
       "      <th>data</th>\n",
       "      <th>endpoint</th>\n",
       "      <th>number</th>\n",
       "    </tr>\n",
       "  </thead>\n",
       "  <tbody>\n",
       "    <tr>\n",
       "      <th>0</th>\n",
       "      <td>original</td>\n",
       "      <td>AR</td>\n",
       "      <td>6</td>\n",
       "    </tr>\n",
       "    <tr>\n",
       "      <th>1</th>\n",
       "      <td>original</td>\n",
       "      <td>AhR</td>\n",
       "      <td>4</td>\n",
       "    </tr>\n",
       "    <tr>\n",
       "      <th>2</th>\n",
       "      <td>original</td>\n",
       "      <td>OS</td>\n",
       "      <td>26</td>\n",
       "    </tr>\n",
       "    <tr>\n",
       "      <th>3</th>\n",
       "      <td>original</td>\n",
       "      <td>Tox21</td>\n",
       "      <td>36</td>\n",
       "    </tr>\n",
       "    <tr>\n",
       "      <th>4</th>\n",
       "      <td>f_id_massbank</td>\n",
       "      <td>AR</td>\n",
       "      <td>185</td>\n",
       "    </tr>\n",
       "    <tr>\n",
       "      <th>5</th>\n",
       "      <td>f_id_massbank</td>\n",
       "      <td>AhR</td>\n",
       "      <td>144</td>\n",
       "    </tr>\n",
       "    <tr>\n",
       "      <th>6</th>\n",
       "      <td>f_id_massbank</td>\n",
       "      <td>OS</td>\n",
       "      <td>57</td>\n",
       "    </tr>\n",
       "    <tr>\n",
       "      <th>7</th>\n",
       "      <td>f_id_massbank</td>\n",
       "      <td>Tox21</td>\n",
       "      <td>67</td>\n",
       "    </tr>\n",
       "    <tr>\n",
       "      <th>8</th>\n",
       "      <td>f_id_cand</td>\n",
       "      <td>AR</td>\n",
       "      <td>236</td>\n",
       "    </tr>\n",
       "    <tr>\n",
       "      <th>9</th>\n",
       "      <td>f_id_cand</td>\n",
       "      <td>AhR</td>\n",
       "      <td>195</td>\n",
       "    </tr>\n",
       "    <tr>\n",
       "      <th>10</th>\n",
       "      <td>f_id_cand</td>\n",
       "      <td>OS</td>\n",
       "      <td>16</td>\n",
       "    </tr>\n",
       "    <tr>\n",
       "      <th>11</th>\n",
       "      <td>f_id_cand</td>\n",
       "      <td>Tox21</td>\n",
       "      <td>21</td>\n",
       "    </tr>\n",
       "    <tr>\n",
       "      <th>12</th>\n",
       "      <td>f_nts</td>\n",
       "      <td>AR</td>\n",
       "      <td>117</td>\n",
       "    </tr>\n",
       "    <tr>\n",
       "      <th>13</th>\n",
       "      <td>f_nts</td>\n",
       "      <td>AhR</td>\n",
       "      <td>75</td>\n",
       "    </tr>\n",
       "    <tr>\n",
       "      <th>14</th>\n",
       "      <td>f_nts</td>\n",
       "      <td>OS</td>\n",
       "      <td>26</td>\n",
       "    </tr>\n",
       "    <tr>\n",
       "      <th>15</th>\n",
       "      <td>f_nts</td>\n",
       "      <td>Tox21</td>\n",
       "      <td>0</td>\n",
       "    </tr>\n",
       "  </tbody>\n",
       "</table>\n",
       "</div>"
      ],
      "text/plain": [
       "             data endpoint  number\n",
       "0        original       AR       6\n",
       "1        original      AhR       4\n",
       "2        original       OS      26\n",
       "3        original    Tox21      36\n",
       "4   f_id_massbank       AR     185\n",
       "5   f_id_massbank      AhR     144\n",
       "6   f_id_massbank       OS      57\n",
       "7   f_id_massbank    Tox21      67\n",
       "8       f_id_cand       AR     236\n",
       "9       f_id_cand      AhR     195\n",
       "10      f_id_cand       OS      16\n",
       "11      f_id_cand    Tox21      21\n",
       "12          f_nts       AR     117\n",
       "13          f_nts      AhR      75\n",
       "14          f_nts       OS      26\n",
       "15          f_nts    Tox21       0"
      ]
     },
     "execution_count": 5,
     "metadata": {},
     "output_type": "execute_result"
    }
   ],
   "source": [
    "df = pd.read_csv('../data/solutions-data/features_per_endpoints_t-massbank_nts.csv') \n",
    "df.head(20)"
   ]
  },
  {
   "cell_type": "code",
   "execution_count": 6,
   "id": "ba204575-0721-4eaf-b82b-e5c0bbf3890f",
   "metadata": {},
   "outputs": [
    {
     "data": {
      "image/png": "[encoded data removed]",
      "text/plain": [
       "<Figure size 432x288 with 1 Axes>"
      ]
     },
     "metadata": {
      "needs_background": "light"
     },
     "output_type": "display_data"
    }
   ],
   "source": [
    "sns.set_theme(style=\"whitegrid\")\n",
    "sns.set_style(\"white\")\n",
    "sns.set_context(\"poster\", font_scale = .5, rc={\"grid.linewidth\": 0.6})\n",
    "sns.set_context(\"poster\")\n",
    "\n",
    "# Draw a nested barplot by species and sex\n",
    "h = sns.barplot(\n",
    "    data=df, \n",
    "    x=\"data\", y=\"number\", hue=\"endpoint\", palette=\"BrBG\", alpha=.6, width=0.75\n",
    ")\n",
    "h.set_xlabel(\"\")\n",
    "h.set_ylabel(\"Features with toxic activity\")\n",
    "h.set_xticklabels(['Neale et al.','massbank_id','tentative_id','NTS'])\n",
    "h.set_title(\"\") \n",
    "for i in h.containers:\n",
    "    h.bar_label(i,)\n",
    "#h.legend(title='', loc='upper left', labels=['AR', 'AhR', \"OS\", \"Total\", \"Confirmed\"])\n",
    "sns.set(rc={'figure.figsize':(18,10)})\n",
    "plt.savefig('../plots/solutions/summary_stats.svg', dpi = 300,\n",
    "           transparent=True)\n"
   ]
  },
  {
   "cell_type": "code",
   "execution_count": null,
   "id": "bb1dbfe1-c6b6-49f8-b64d-3882819f2914",
   "metadata": {},
   "outputs": [],
   "source": []
  },
  {
   "cell_type": "code",
   "execution_count": null,
   "id": "916536b1-140c-4ac1-9e48-372edcd35bf0",
   "metadata": {},
   "outputs": [],
   "source": []
  },
  {
   "cell_type": "code",
   "execution_count": null,
   "id": "063e4458-462a-48a9-b7c2-0cf59f2897e0",
   "metadata": {},
   "outputs": [],
   "source": []
  }
 ],
 "metadata": {
  "kernelspec": {
   "display_name": "Python 3 (ipykernel)",
   "language": "python",
   "name": "python3"
  },
  "language_info": {
   "codemirror_mode": {
    "name": "ipython",
    "version": 3
   },
   "file_extension": ".py",
   "mimetype": "text/x-python",
   "name": "python",
   "nbconvert_exporter": "python",
   "pygments_lexer": "ipython3",
   "version": "3.9.12"
  }
 },
 "nbformat": 4,
 "nbformat_minor": 5
}
