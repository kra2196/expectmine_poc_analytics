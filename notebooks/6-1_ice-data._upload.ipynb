{
 "cells": [
  {
   "cell_type": "code",
   "execution_count": 11,
   "id": "a04db2f7-321e-400c-964d-ec849c09d915",
   "metadata": {},
   "outputs": [],
   "source": [
    "# import packages\n",
    "import pandas as pd\n",
    "pd.set_option(\"display.precision\", 2)\n",
    "import numpy as np\n",
    "import matplotlib.pyplot as plt\n",
    "from matplotlib import cm\n",
    "from matplotlib.colors import ListedColormap, LinearSegmentedColormap\n",
    "import seaborn as sns\n",
    "from scipy.stats import norm\n",
    "from sklearn.preprocessing import StandardScaler\n",
    "import warnings\n",
    "warnings.filterwarnings('ignore')\n",
    "%matplotlib inline\n",
    "from pylab import *\n",
    "sns.set()"
   ]
  },
  {
   "cell_type": "code",
   "execution_count": 21,
   "id": "368a8cfd-0ee7-4b14-a51e-524ad07eb51f",
   "metadata": {},
   "outputs": [
    {
     "name": "stdout",
     "output_type": "stream",
     "text": [
      "(83, 3)\n",
      "                                           assay      call  dtxsid\n",
      "416                              ATG_PXRE_CIS_up    Active    1008\n",
      "4178                 TOX21_ARE_BLA_agonist_ratio    Active    1211\n",
      "4190               TOX21_AR_BLA_Antagonist_ratio    Active    1283\n",
      "4206  TOX21_AR_LUC_MDAKB2_Antagonist_0.5nM_R1881    Active    1249\n",
      "4224                       TOX21_AhR_LUC_Agonist  Inactive    1251\n"
     ]
    },
    {
     "data": {
      "text/html": [
       "<div>\n",
       "<style scoped>\n",
       "    .dataframe tbody tr th:only-of-type {\n",
       "        vertical-align: middle;\n",
       "    }\n",
       "\n",
       "    .dataframe tbody tr th {\n",
       "        vertical-align: top;\n",
       "    }\n",
       "\n",
       "    .dataframe thead th {\n",
       "        text-align: right;\n",
       "    }\n",
       "</style>\n",
       "<table border=\"1\" class=\"dataframe\">\n",
       "  <thead>\n",
       "    <tr style=\"text-align: right;\">\n",
       "      <th></th>\n",
       "      <th>Total</th>\n",
       "      <th>Percent</th>\n",
       "    </tr>\n",
       "  </thead>\n",
       "  <tbody>\n",
       "    <tr>\n",
       "      <th>assay</th>\n",
       "      <td>0</td>\n",
       "      <td>0.0</td>\n",
       "    </tr>\n",
       "    <tr>\n",
       "      <th>call</th>\n",
       "      <td>0</td>\n",
       "      <td>0.0</td>\n",
       "    </tr>\n",
       "    <tr>\n",
       "      <th>dtxsid</th>\n",
       "      <td>0</td>\n",
       "      <td>0.0</td>\n",
       "    </tr>\n",
       "  </tbody>\n",
       "</table>\n",
       "</div>"
      ],
      "text/plain": [
       "        Total  Percent\n",
       "assay       0      0.0\n",
       "call        0      0.0\n",
       "dtxsid      0      0.0"
      ]
     },
     "execution_count": 21,
     "metadata": {},
     "output_type": "execute_result"
    }
   ],
   "source": [
    "# read ICE data\n",
    "df_ice = pd.read_csv('../data/ice-data/ICE_data_20220914_edit.csv', encoding=\"latin1\")\n",
    "df_ice = df_ice.drop(columns=['m4id', 'casrn', 'chemName', 'normalizedDataType', 'ac50', 'acc', 'response units', 'topOfCurve','topOfCurve units',  'Concentration Response (Index:Concentration:Response)'])\n",
    "endpoints = df_ice.groupby([\"assay\", \"call\"]).nunique().drop(columns=['mechanisticTargets']).reset_index()\n",
    "endpoints = endpoints[(endpoints[\"call\"] == \"Active\") | ( endpoints[\"call\"] == \"Inactive\") ]\n",
    "endpoints = endpoints[endpoints[\"dtxsid\"] > 1000]\n",
    "print(endpoints.shape)\n",
    "print(endpoints.head())\n",
    "\n",
    "total = endpoints.isnull().sum().sort_values(ascending=False)\n",
    "percent = (endpoints.isnull().sum()/endpoints.isnull().count()\n",
    "           ).sort_values(ascending=False)\n",
    "missing_data = pd.concat([total, percent], axis=1, keys=['Total', 'Percent'])\n",
    "missing_data.head(20)"
   ]
  },
  {
   "cell_type": "code",
   "execution_count": null,
   "id": "da478e2c-ecfd-44f3-b720-7ae8ca9acfd8",
   "metadata": {},
   "outputs": [],
   "source": []
  }
 ],
 "metadata": {
  "kernelspec": {
   "display_name": "Python 3 (ipykernel)",
   "language": "python",
   "name": "python3"
  },
  "language_info": {
   "codemirror_mode": {
    "name": "ipython",
    "version": 3
   },
   "file_extension": ".py",
   "mimetype": "text/x-python",
   "name": "python",
   "nbconvert_exporter": "python",
   "pygments_lexer": "ipython3",
   "version": "3.9.12"
  }
 },
 "nbformat": 4,
 "nbformat_minor": 5
}
