{
 "cells": [
  {
   "cell_type": "code",
   "execution_count": 6,
   "id": "d0f56a3d-9bbd-4344-a90a-2cb7857d48cd",
   "metadata": {},
   "outputs": [
    {
     "name": "stdout",
     "output_type": "stream",
     "text": [
      "['#5ec962', '#21918c', '#3b528b']\n"
     ]
    }
   ],
   "source": [
    "import seaborn as sns\n",
    "from PIL import Image, ImageDraw\n",
    "iter = 3\n",
    "# Paired\n",
    "# cividis\n",
    "palette = list(reversed(sns.color_palette(\"viridis\", iter).as_hex()))\n",
    "print(palette)\n",
    "width_px=1000\n",
    "new = Image.new(mode=\"RGB\", size=(width_px,120))\n",
    "for i in range(iter):\n",
    "\n",
    "    newt = Image.new(mode=\"RGB\", size=(width_px//iter,100), color=palette[i])\n",
    "    new.paste(newt, (i*width_px//iter,10))  \n",
    "new.show()\n",
    "new.save(\"color_palette.png\")\n"
   ]
  },
  {
   "cell_type": "code",
   "execution_count": 2,
   "id": "b293a1a4-eeeb-4f94-ae9b-d24964612d31",
   "metadata": {},
   "outputs": [],
   "source": [
    "palette = {\"sensitivity\":\"5ab760\",\n",
    "           \"precision\":\"#feec9f\", \n",
    "           \"accuracy\":\"#de402e\"}"
   ]
  },
  {
   "cell_type": "code",
   "execution_count": 3,
   "id": "39c92ec1-84af-496f-889a-72bc4bd962f8",
   "metadata": {},
   "outputs": [
    {
     "name": "stdout",
     "output_type": "stream",
     "text": [
      "[(0.9748558246828143, 0.5574009996155325, 0.32272202998846594), (0.9970780469050365, 0.9987697039600154, 0.7450211457131872), (0.5181084198385237, 0.7928489042675895, 0.4011534025374856)]\n"
     ]
    }
   ],
   "source": [
    "palette = sns.color_palette(\"Spectral\")\n",
    "palette = sns.color_palette(\"RdYlGn\", 3)\n",
    "print(palette)"
   ]
  },
  {
   "cell_type": "code",
   "execution_count": 4,
   "id": "7f22d683-68e2-4d45-a908-857f77614e5d",
   "metadata": {},
   "outputs": [
    {
     "name": "stdout",
     "output_type": "stream",
     "text": [
      "['#d0384e', '#ee6445', '#fa9b58', '#fece7c', '#fff1a8', '#f4faad', '#d1ed9c', '#97d5a4', '#5cb7aa', '#3682ba']\n"
     ]
    }
   ],
   "source": [
    "palette = sns.color_palette(\"Spectral\", 10).as_hex()\n",
    "print(palette)"
   ]
  },
  {
   "cell_type": "code",
   "execution_count": null,
   "id": "0e1d798b-a0e9-45ca-b19e-9cccec88257c",
   "metadata": {},
   "outputs": [],
   "source": [
    "palette = {\"sensitivity\":\"tab:cyan\",\n",
    "           \"precision\":\"tab:orange\", \n",
    "           \"accuracy\":\"tab:purple\"}"
   ]
  },
  {
   "cell_type": "code",
   "execution_count": 9,
   "id": "aa7bf8e1-5384-4331-947e-230bf7d2430a",
   "metadata": {},
   "outputs": [
    {
     "name": "stdout",
     "output_type": "stream",
     "text": [
      "['#07051b', '#150b37', '#280b53', '#3d0965', '#510e6c', '#65156e', '#781c6d', '#8c2369', '#9f2a63', '#b1325a', '#c43c4e', '#d44842', '#e25734', '#ed6925', '#f57d15', '#fa9407', '#fcaa0f', '#fac228', '#f5d949', '#f1ef75']\n"
     ]
    }
   ],
   "source": [
    "palette = sns.color_palette(\"inferno\", 20).as_hex()\n",
    "print(palette)"
   ]
  },
  {
   "cell_type": "code",
   "execution_count": 7,
   "id": "6a12287a-9c7b-4c19-9649-3243e176acf5",
   "metadata": {},
   "outputs": [
    {
     "ename": "SyntaxError",
     "evalue": "unterminated string literal (detected at line 7) (2434645790.py, line 7)",
     "output_type": "error",
     "traceback": [
      "\u001b[0;36m  Cell \u001b[0;32mIn[7], line 7\u001b[0;36m\u001b[0m\n\u001b[0;31m    'Sequential (2)\u001b[0m\n\u001b[0m    ^\u001b[0m\n\u001b[0;31mSyntaxError\u001b[0m\u001b[0;31m:\u001b[0m unterminated string literal (detected at line 7)\n"
     ]
    }
   ],
   "source": [
    "'Perceptually Uniform Sequential'\n",
    "['viridis', 'plasma', 'inferno', 'magma', 'cividis']\n",
    "\n",
    "('Sequential'\n",
    "['Greys', 'Purples', 'Blues', 'Greens', 'Oranges', 'Reds','YlOrBr', 'YlOrRd', 'OrRd', 'PuRd', 'RdPu', 'BuPu','GnBu', 'PuBu', 'YlGnBu', 'PuBuGn', 'BuGn', 'YlGn']\n",
    "\n",
    "'Sequential (2)\n",
    "['binary', 'gist_yarg', 'gist_gray', 'gray', 'bone', 'pink','spring', 'summer', 'autumn', 'winter', 'cool', 'Wistia','hot', 'afmhot', 'gist_heat', 'copper']\n",
    "\n",
    "'Diverging'\n",
    "['PiYG', 'PRGn', 'BrBG', 'PuOr', 'RdGy', 'RdBu','RdYlBu', 'RdYlGn', 'Spectral', 'coolwarm', 'bwr', 'seismic']\n",
    "\n",
    "'Cyclic'\n",
    "['twilight', 'twilight_shifted', 'hsv'])\n",
    "\n",
    "'Qualitative'\n",
    "['Pastel1', 'Pastel2', 'Paired', 'Accent','Dark2', 'Set1', 'Set2', 'Set3','tab10', 'tab20', 'tab20b', 'tab20c']),\n",
    "\n",
    "'Miscellaneous'\n",
    "['flag', 'prism', 'ocean', 'gist_earth', 'terrain', 'gist_stern','gnuplot', 'gnuplot2', 'CMRmap', 'cubehelix', 'brg','gist_rainbow', 'rainbow', 'jet', 'turbo', 'nipy_spectral','gist_ncar']"
   ]
  },
  {
   "cell_type": "code",
   "execution_count": 8,
   "id": "5a8ba35f-fd04-47c1-a4c4-9c3957dbc12d",
   "metadata": {},
   "outputs": [
    {
     "name": "stdout",
     "output_type": "stream",
     "text": [
      "['#47a0b3', '#a2d9a4', '#edf8a3', '#fee999', '#fca55d', '#e2514a']\n"
     ]
    },
    {
     "ename": "ValueError",
     "evalue": "invalid literal for int() with base 16: '#4'",
     "output_type": "error",
     "traceback": [
      "\u001b[0;31m---------------------------------------------------------------------------\u001b[0m",
      "\u001b[0;31mValueError\u001b[0m                                Traceback (most recent call last)",
      "Cell \u001b[0;32mIn[8], line 6\u001b[0m\n\u001b[1;32m      3\u001b[0m get_rgb\u001b[39m=\u001b[39m \u001b[39mlambda\u001b[39;00m x: \u001b[39mlist\u001b[39m(\u001b[39mint\u001b[39m(x[i:i\u001b[39m+\u001b[39m\u001b[39m2\u001b[39m], \u001b[39m16\u001b[39m) \u001b[39mfor\u001b[39;00m i \u001b[39min\u001b[39;00m (\u001b[39m0\u001b[39m, \u001b[39m2\u001b[39m, \u001b[39m4\u001b[39m))\n\u001b[1;32m      5\u001b[0m new_lst\u001b[39m=\u001b[39m(\u001b[39mmap\u001b[39m(get_rgb, lst))\n\u001b[0;32m----> 6\u001b[0m \u001b[39mprint\u001b[39m(\u001b[39mlist\u001b[39;49m(new_lst))\n",
      "Cell \u001b[0;32mIn[8], line 3\u001b[0m, in \u001b[0;36m<lambda>\u001b[0;34m(x)\u001b[0m\n\u001b[1;32m      1\u001b[0m lst \u001b[39m=\u001b[39m [\u001b[39m'\u001b[39m\u001b[39m#47a0b3\u001b[39m\u001b[39m'\u001b[39m, \u001b[39m'\u001b[39m\u001b[39m#a2d9a4\u001b[39m\u001b[39m'\u001b[39m, \u001b[39m'\u001b[39m\u001b[39m#edf8a3\u001b[39m\u001b[39m'\u001b[39m, \u001b[39m'\u001b[39m\u001b[39m#fee999\u001b[39m\u001b[39m'\u001b[39m, \u001b[39m'\u001b[39m\u001b[39m#fca55d\u001b[39m\u001b[39m'\u001b[39m, \u001b[39m'\u001b[39m\u001b[39m#e2514a\u001b[39m\u001b[39m'\u001b[39m]\n\u001b[1;32m      2\u001b[0m \u001b[39mprint\u001b[39m(lst)\n\u001b[0;32m----> 3\u001b[0m get_rgb\u001b[39m=\u001b[39m \u001b[39mlambda\u001b[39;00m x: \u001b[39mlist\u001b[39;49m(\u001b[39mint\u001b[39;49m(x[i:i\u001b[39m+\u001b[39;49m\u001b[39m2\u001b[39;49m], \u001b[39m16\u001b[39;49m) \u001b[39mfor\u001b[39;49;00m i \u001b[39min\u001b[39;49;00m (\u001b[39m0\u001b[39;49m, \u001b[39m2\u001b[39;49m, \u001b[39m4\u001b[39;49m))\n\u001b[1;32m      5\u001b[0m new_lst\u001b[39m=\u001b[39m(\u001b[39mmap\u001b[39m(get_rgb, lst))\n\u001b[1;32m      6\u001b[0m \u001b[39mprint\u001b[39m(\u001b[39mlist\u001b[39m(new_lst))\n",
      "Cell \u001b[0;32mIn[8], line 3\u001b[0m, in \u001b[0;36m<genexpr>\u001b[0;34m(.0)\u001b[0m\n\u001b[1;32m      1\u001b[0m lst \u001b[39m=\u001b[39m [\u001b[39m'\u001b[39m\u001b[39m#47a0b3\u001b[39m\u001b[39m'\u001b[39m, \u001b[39m'\u001b[39m\u001b[39m#a2d9a4\u001b[39m\u001b[39m'\u001b[39m, \u001b[39m'\u001b[39m\u001b[39m#edf8a3\u001b[39m\u001b[39m'\u001b[39m, \u001b[39m'\u001b[39m\u001b[39m#fee999\u001b[39m\u001b[39m'\u001b[39m, \u001b[39m'\u001b[39m\u001b[39m#fca55d\u001b[39m\u001b[39m'\u001b[39m, \u001b[39m'\u001b[39m\u001b[39m#e2514a\u001b[39m\u001b[39m'\u001b[39m]\n\u001b[1;32m      2\u001b[0m \u001b[39mprint\u001b[39m(lst)\n\u001b[0;32m----> 3\u001b[0m get_rgb\u001b[39m=\u001b[39m \u001b[39mlambda\u001b[39;00m x: \u001b[39mlist\u001b[39m(\u001b[39mint\u001b[39;49m(x[i:i\u001b[39m+\u001b[39;49m\u001b[39m2\u001b[39;49m], \u001b[39m16\u001b[39;49m) \u001b[39mfor\u001b[39;00m i \u001b[39min\u001b[39;00m (\u001b[39m0\u001b[39m, \u001b[39m2\u001b[39m, \u001b[39m4\u001b[39m))\n\u001b[1;32m      5\u001b[0m new_lst\u001b[39m=\u001b[39m(\u001b[39mmap\u001b[39m(get_rgb, lst))\n\u001b[1;32m      6\u001b[0m \u001b[39mprint\u001b[39m(\u001b[39mlist\u001b[39m(new_lst))\n",
      "\u001b[0;31mValueError\u001b[0m: invalid literal for int() with base 16: '#4'"
     ]
    }
   ],
   "source": [
    "lst = ['#47a0b3', '#a2d9a4', '#edf8a3', '#fee999', '#fca55d', '#e2514a']\n",
    "print(lst)\n",
    "get_rgb= lambda x: list(int(x[i:i+2], 16) for i in (0, 2, 4))\n",
    "\n",
    "new_lst=(map(get_rgb, lst))\n",
    "print(list(new_lst))"
   ]
  },
  {
   "cell_type": "code",
   "execution_count": null,
   "id": "0de6c8c0-1acf-4c58-89d0-f5b3d9408958",
   "metadata": {},
   "outputs": [],
   "source": []
  }
 ],
 "metadata": {
  "kernelspec": {
   "display_name": "Python 3 (ipykernel)",
   "language": "python",
   "name": "python3"
  },
  "language_info": {
   "codemirror_mode": {
    "name": "ipython",
    "version": 3
   },
   "file_extension": ".py",
   "mimetype": "text/x-python",
   "name": "python",
   "nbconvert_exporter": "python",
   "pygments_lexer": "ipython3",
   "version": "3.10.9"
  }
 },
 "nbformat": 4,
 "nbformat_minor": 5
}
